{
 "cells": [
  {
   "cell_type": "markdown",
   "metadata": {},
   "source": [
    "<h1> Mission To Mars</h1>\n",
    "\n",
    "<h4> Web scraping various sites to obtain information on Mars. </h4>"
   ]
  },
  {
   "cell_type": "code",
   "execution_count": 1,
   "metadata": {},
   "outputs": [],
   "source": [
    "import html5lib\n",
    "import lxml\n",
    "import pandas as pd\n",
    "import pymongo \n",
    "import requests \n",
    "from bs4 import BeautifulSoup as bs\n",
    "from selenium import webdriver"
   ]
  },
  {
   "cell_type": "code",
   "execution_count": 2,
   "metadata": {},
   "outputs": [],
   "source": [
    "hemispheres_url = \"https://astrogeology.usgs.gov/search/results?q=hemisphere+enhanced&k1=target&v1=Mars\""
   ]
  },
  {
   "cell_type": "markdown",
   "metadata": {},
   "source": [
    "<h3>Nasa Mars News</h3>\n",
    "\n",
    "Had issues getting Requests to pull the info so I had to use Selenium + lxml"
   ]
  },
  {
   "cell_type": "code",
   "execution_count": 3,
   "metadata": {},
   "outputs": [],
   "source": [
    "# scrape Mars News \n",
    "nasa_url = 'https://mars.nasa.gov/news/'\n",
    "\n",
    "driver = webdriver.Firefox()\n",
    "driver.get(nasa_url)\n",
    "driver.implicitly_wait(5)\n",
    "\n",
    "nasa_soup = bs(driver.page_source,'html.parser')\n",
    "driver.close()"
   ]
  },
  {
   "cell_type": "code",
   "execution_count": 4,
   "metadata": {},
   "outputs": [
    {
     "name": "stdout",
     "output_type": "stream",
     "text": [
      "The MarCO Mission Comes to an End\n",
      "The pair of briefcase-sized satellites made history when they sailed past Mars in 2019.\n"
     ]
    }
   ],
   "source": [
    "# find latest news title and paragraph text\n",
    "news_title = nasa_soup.body.find('div', class_='content_title').text\n",
    "news_paragraph = nasa_soup.body.find('div', class_='article_teaser_body').text\n",
    "\n",
    "print(news_title)\n",
    "print(news_paragraph)"
   ]
  },
  {
   "cell_type": "markdown",
   "metadata": {},
   "source": [
    "<h3>JPL Mars Space Images - Featured Image</h3>"
   ]
  },
  {
   "cell_type": "code",
   "execution_count": 5,
   "metadata": {},
   "outputs": [],
   "source": [
    "# scrape JPL\n",
    "jpl_base = 'https://www.jpl.nasa.gov'\n",
    "jpl_url = jpl_base+'/spaceimages/?search=&category=Mars'\n",
    "response = requests.get(jpl_url)\n",
    "\n",
    "jpl_soup = bs(response.text, 'html.parser')"
   ]
  },
  {
   "cell_type": "code",
   "execution_count": 6,
   "metadata": {},
   "outputs": [
    {
     "data": {
      "text/plain": [
       "\"background-image: url('/spaceimages/images/wallpaper/PIA18846-1920x1200.jpg');\""
      ]
     },
     "execution_count": 6,
     "metadata": {},
     "output_type": "execute_result"
    }
   ],
   "source": [
    "# find featured image \n",
    "jpl_soup.find('article')['style']"
   ]
  },
  {
   "cell_type": "code",
   "execution_count": 7,
   "metadata": {},
   "outputs": [
    {
     "data": {
      "text/plain": [
       "'/spaceimages/images/wallpaper/PIA18846-1920x1200.jpg'"
      ]
     },
     "execution_count": 7,
     "metadata": {},
     "output_type": "execute_result"
    }
   ],
   "source": [
    "# strip off everything that isnt the image path  \n",
    "image_str = jpl_soup.find('article')['style'].split(' ')[1].strip(\"url\").strip(\"('');\")\n",
    "image_str"
   ]
  },
  {
   "cell_type": "code",
   "execution_count": 8,
   "metadata": {},
   "outputs": [
    {
     "data": {
      "text/plain": [
       "'https://www.jpl.nasa.gov/spaceimages/images/wallpaper/PIA18846-1920x1200.jpg'"
      ]
     },
     "execution_count": 8,
     "metadata": {},
     "output_type": "execute_result"
    }
   ],
   "source": [
    "# concatenate base url with image path \n",
    "featured_image_url = jpl_base + image_str\n",
    "featured_image_url"
   ]
  },
  {
   "cell_type": "markdown",
   "metadata": {},
   "source": [
    "<h3>Mars Weather</h3>"
   ]
  },
  {
   "cell_type": "code",
   "execution_count": 9,
   "metadata": {},
   "outputs": [],
   "source": [
    "# scrape Twitter\n",
    "weather_url = 'https://twitter.com/marswxreport?lang=en'\n",
    "response = requests.get(weather_url)\n",
    "\n",
    "weather_soup = bs(response.text, 'html.parser')"
   ]
  },
  {
   "cell_type": "code",
   "execution_count": 19,
   "metadata": {},
   "outputs": [
    {
     "name": "stdout",
     "output_type": "stream",
     "text": [
      "360 Sol 2687 selfiehttps://roundme.com/tour/550044/view?welcome …\n"
     ]
    }
   ],
   "source": [
    "# find most recent weather report  \n",
    "tweets = weather_soup.find_all('div', class_ = 'js-tweet-text-container')\n",
    "\n",
    "for tweet in tweets:\n",
    "    mars_weather = tweet.find('p').text\n",
    "    break\n",
    "\n",
    "print(mars_weather)"
   ]
  },
  {
   "cell_type": "markdown",
   "metadata": {},
   "source": [
    "<h3>Mars Facts</h3>"
   ]
  },
  {
   "cell_type": "code",
   "execution_count": 11,
   "metadata": {},
   "outputs": [],
   "source": [
    "# scrape Mars Facts \n",
    "facts_url = 'http://space-facts.com/mars/'\n",
    "response = requests.get(facts_url)\n",
    "\n",
    "facts_soup = bs(response.text, 'html.parser')"
   ]
  },
  {
   "cell_type": "code",
   "execution_count": 12,
   "metadata": {},
   "outputs": [
    {
     "data": {
      "text/plain": [
       "[                      0                              1\n",
       " 0  Equatorial Diameter:                       6,792 km\n",
       " 1       Polar Diameter:                       6,752 km\n",
       " 2                 Mass:  6.39 × 10^23 kg (0.11 Earths)\n",
       " 3                Moons:            2 (Phobos & Deimos)\n",
       " 4       Orbit Distance:       227,943,824 km (1.38 AU)\n",
       " 5         Orbit Period:           687 days (1.9 years)\n",
       " 6  Surface Temperature:                   -87 to -5 °C\n",
       " 7         First Record:              2nd millennium BC\n",
       " 8          Recorded By:           Egyptian astronomers]"
      ]
     },
     "execution_count": 12,
     "metadata": {},
     "output_type": "execute_result"
    }
   ],
   "source": [
    "# find table and read it into a pandas dataframe \n",
    "table = facts_soup.find_all('table')[0]\n",
    "table\n",
    "\n",
    "df = pd.read_html(str(table))\n",
    "df"
   ]
  },
  {
   "cell_type": "markdown",
   "metadata": {},
   "source": [
    "<h3>Mars Hemispheres</h3>"
   ]
  },
  {
   "cell_type": "code",
   "execution_count": 13,
   "metadata": {},
   "outputs": [],
   "source": [
    "# scrape -- Requests \n",
    "hemi_url = \"https://astrogeology.usgs.gov/search/results?q=hemisphere+enhanced&k1=target&v1=Mars\"\n",
    "response = requests.get(hemi_url)\n",
    "\n",
    "hemi_soup = bs(response.text, 'html.parser')"
   ]
  },
  {
   "cell_type": "code",
   "execution_count": 14,
   "metadata": {},
   "outputs": [
    {
     "data": {
      "text/plain": [
       "[{'Title': 'Cerberus Hemispher',\n",
       "  'URL': 'https://astrogeology.usgs.gov/search/map/Mars/Viking/cerberus_enhanced'},\n",
       " {'Title': 'Schiaparelli Hemispher',\n",
       "  'URL': 'https://astrogeology.usgs.gov/search/map/Mars/Viking/schiaparelli_enhanced'},\n",
       " {'Title': 'Syrtis Major Hemispher',\n",
       "  'URL': 'https://astrogeology.usgs.gov/search/map/Mars/Viking/syrtis_major_enhanced'},\n",
       " {'Title': 'Valles Marineris Hemispher',\n",
       "  'URL': 'https://astrogeology.usgs.gov/search/map/Mars/Viking/valles_marineris_enhanced'}]"
      ]
     },
     "execution_count": 14,
     "metadata": {},
     "output_type": "execute_result"
    }
   ],
   "source": [
    "hemi_base = 'https://astrogeology.usgs.gov'\n",
    "\n",
    "hemi_imgs = []\n",
    "hemi_imgs = [\n",
    "    {\n",
    "        \"Title\": hemi.text.strip(\" Enhanced\"),\n",
    "        \"URL\": (hemi_base + hemi[\"href\"]),\n",
    "    }\n",
    "    for hemi in hemi_soup.find_all('a', class_='itemLink product-item')\n",
    "]\n",
    "hemi_imgs"
   ]
  },
  {
   "cell_type": "code",
   "execution_count": 15,
   "metadata": {},
   "outputs": [
    {
     "name": "stdout",
     "output_type": "stream",
     "text": [
      "Cerberus Hemisphere\n",
      "Schiaparelli Hemisphere\n",
      "Syrtis Major Hemisphere\n",
      "Valles Marineris Hemisphere\n",
      "https://astrogeology.usgs.gov/search/map/Mars/Viking/cerberus_enhanced\n",
      "https://astrogeology.usgs.gov/search/map/Mars/Viking/schiaparelli_enhanced\n",
      "https://astrogeology.usgs.gov/search/map/Mars/Viking/syrtis_major_enhanced\n",
      "https://astrogeology.usgs.gov/search/map/Mars/Viking/valles_marineris_enhanced\n"
     ]
    }
   ],
   "source": [
    "# clickable URLs\n",
    "images = hemi_soup.find_all(class_='itemLink product-item')\n",
    "hemis = [\"Cerberus Hemisphere\", \"Schiaparelli Hemisphere\", \"Syrtis Major Hemisphere\", \"Valles Marineris Hemisphere\"]\n",
    "\n",
    "for h in hemis:\n",
    "    print(h)\n",
    "    \n",
    "for image in images:\n",
    "    image_url = hemi_base + image['href']\n",
    "    print(image_url)      "
   ]
  },
  {
   "cell_type": "code",
   "execution_count": 16,
   "metadata": {},
   "outputs": [
    {
     "data": {
      "text/plain": [
       "['Cerberus Hemisphere',\n",
       " 'Schiaparelli Hemisphere',\n",
       " 'Syrtis Major Hemisphere',\n",
       " 'Valles Marineris Hemisphere']"
      ]
     },
     "execution_count": 16,
     "metadata": {},
     "output_type": "execute_result"
    }
   ],
   "source": [
    "def get_images(hemis):\n",
    "    return hemis \n",
    "\n",
    "get_images(hemis)"
   ]
  }
 ],
 "metadata": {
  "kernelspec": {
   "display_name": "scrape_env",
   "language": "python",
   "name": "scrape_env"
  },
  "language_info": {
   "codemirror_mode": {
    "name": "ipython",
    "version": 3
   },
   "file_extension": ".py",
   "mimetype": "text/x-python",
   "name": "python",
   "nbconvert_exporter": "python",
   "pygments_lexer": "ipython3",
   "version": "3.8.0"
  }
 },
 "nbformat": 4,
 "nbformat_minor": 2
}
